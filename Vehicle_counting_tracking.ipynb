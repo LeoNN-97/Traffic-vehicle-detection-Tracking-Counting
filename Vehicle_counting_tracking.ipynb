{
  "cells": [
    {
      "cell_type": "markdown",
      "source": [
        "# Install all the Required Libraries"
      ],
      "metadata": {
        "id": "riy724ezY4a4"
      }
    },
    {
      "cell_type": "code",
      "source": [
        "import tensorflow\n",
        "from tensorflow.python.client import device_lib\n",
        "device_lib.list_local_devices()"
      ],
      "metadata": {
        "colab": {
          "base_uri": "https://localhost:8080/"
        },
        "id": "RA_JkqzcXVRf",
        "outputId": "1e144260-e447-4d08-d7fd-b30ece536578"
      },
      "execution_count": null,
      "outputs": [
        {
          "output_type": "execute_result",
          "data": {
            "text/plain": [
              "[name: \"/device:CPU:0\"\n",
              " device_type: \"CPU\"\n",
              " memory_limit: 268435456\n",
              " locality {\n",
              " }\n",
              " incarnation: 11725400464976449446\n",
              " xla_global_id: -1, name: \"/device:GPU:0\"\n",
              " device_type: \"GPU\"\n",
              " memory_limit: 14415560704\n",
              " locality {\n",
              "   bus_id: 1\n",
              "   links {\n",
              "   }\n",
              " }\n",
              " incarnation: 5006745974174944383\n",
              " physical_device_desc: \"device: 0, name: Tesla T4, pci bus id: 0000:00:04.0, compute capability: 7.5\"\n",
              " xla_global_id: 416903419]"
            ]
          },
          "metadata": {},
          "execution_count": 4
        }
      ]
    },
    {
      "cell_type": "markdown",
      "source": [
        "# Install Detectron2(object Detection Model)"
      ],
      "metadata": {
        "id": "ms2a3-jEvpGf"
      }
    },
    {
      "cell_type": "code",
      "execution_count": null,
      "metadata": {
        "colab": {
          "base_uri": "https://localhost:8080/",
          "height": 1000
        },
        "id": "0HSttdH8qa4v",
        "outputId": "157eb0d4-85dc-47d9-8c2e-ff8cede17ab2"
      },
      "outputs": [
        {
          "output_type": "stream",
          "name": "stdout",
          "text": [
            "Looking in indexes: https://pypi.org/simple, https://us-python.pkg.dev/colab-wheels/public/simple/\n",
            "Collecting git+https://github.com/facebookresearch/detectron2.git\n",
            "  Cloning https://github.com/facebookresearch/detectron2.git to /tmp/pip-req-build-c6osafy0\n",
            "  Running command git clone -q https://github.com/facebookresearch/detectron2.git /tmp/pip-req-build-c6osafy0\n",
            "Requirement already satisfied: Pillow>=7.1 in /usr/local/lib/python3.7/dist-packages (from detectron2==0.6) (7.1.2)\n",
            "Requirement already satisfied: matplotlib in /usr/local/lib/python3.7/dist-packages (from detectron2==0.6) (3.2.2)\n",
            "Requirement already satisfied: pycocotools>=2.0.2 in /usr/local/lib/python3.7/dist-packages (from detectron2==0.6) (2.0.6)\n",
            "Requirement already satisfied: termcolor>=1.1 in /usr/local/lib/python3.7/dist-packages (from detectron2==0.6) (2.1.0)\n",
            "Collecting yacs>=0.1.8\n",
            "  Downloading yacs-0.1.8-py3-none-any.whl (14 kB)\n",
            "Requirement already satisfied: tabulate in /usr/local/lib/python3.7/dist-packages (from detectron2==0.6) (0.8.10)\n",
            "Requirement already satisfied: cloudpickle in /usr/local/lib/python3.7/dist-packages (from detectron2==0.6) (1.5.0)\n",
            "Requirement already satisfied: tqdm>4.29.0 in /usr/local/lib/python3.7/dist-packages (from detectron2==0.6) (4.64.1)\n",
            "Requirement already satisfied: tensorboard in /usr/local/lib/python3.7/dist-packages (from detectron2==0.6) (2.9.1)\n",
            "Collecting fvcore<0.1.6,>=0.1.5\n",
            "  Downloading fvcore-0.1.5.post20220512.tar.gz (50 kB)\n",
            "\u001b[K     |████████████████████████████████| 50 kB 7.2 MB/s \n",
            "\u001b[?25hCollecting iopath<0.1.10,>=0.1.7\n",
            "  Downloading iopath-0.1.9-py3-none-any.whl (27 kB)\n",
            "Requirement already satisfied: future in /usr/local/lib/python3.7/dist-packages (from detectron2==0.6) (0.16.0)\n",
            "Requirement already satisfied: pydot in /usr/local/lib/python3.7/dist-packages (from detectron2==0.6) (1.3.0)\n",
            "Collecting omegaconf>=2.1\n",
            "  Downloading omegaconf-2.2.3-py3-none-any.whl (79 kB)\n",
            "\u001b[K     |████████████████████████████████| 79 kB 8.5 MB/s \n",
            "\u001b[?25hCollecting hydra-core>=1.1\n",
            "  Downloading hydra_core-1.2.0-py3-none-any.whl (151 kB)\n",
            "\u001b[K     |████████████████████████████████| 151 kB 61.5 MB/s \n",
            "\u001b[?25hCollecting black==22.3.0\n",
            "  Downloading black-22.3.0-cp37-cp37m-manylinux_2_17_x86_64.manylinux2014_x86_64.whl (1.4 MB)\n",
            "\u001b[K     |████████████████████████████████| 1.4 MB 50.6 MB/s \n",
            "\u001b[?25hCollecting timm\n",
            "  Downloading timm-0.6.11-py3-none-any.whl (548 kB)\n",
            "\u001b[K     |████████████████████████████████| 548 kB 67.2 MB/s \n",
            "\u001b[?25hCollecting fairscale\n",
            "  Downloading fairscale-0.4.6.tar.gz (248 kB)\n",
            "\u001b[K     |████████████████████████████████| 248 kB 64.7 MB/s \n",
            "\u001b[?25h  Installing build dependencies ... \u001b[?25l\u001b[?25hdone\n",
            "  Getting requirements to build wheel ... \u001b[?25l\u001b[?25hdone\n",
            "  Installing backend dependencies ... \u001b[?25l\u001b[?25hdone\n",
            "    Preparing wheel metadata ... \u001b[?25l\u001b[?25hdone\n",
            "Requirement already satisfied: packaging in /usr/local/lib/python3.7/dist-packages (from detectron2==0.6) (21.3)\n",
            "Requirement already satisfied: typing-extensions>=3.10.0.0 in /usr/local/lib/python3.7/dist-packages (from black==22.3.0->detectron2==0.6) (4.1.1)\n",
            "Requirement already satisfied: tomli>=1.1.0 in /usr/local/lib/python3.7/dist-packages (from black==22.3.0->detectron2==0.6) (2.0.1)\n",
            "Collecting typed-ast>=1.4.2\n",
            "  Downloading typed_ast-1.5.4-cp37-cp37m-manylinux_2_5_x86_64.manylinux1_x86_64.manylinux_2_12_x86_64.manylinux2010_x86_64.whl (843 kB)\n",
            "\u001b[K     |████████████████████████████████| 843 kB 54.3 MB/s \n",
            "\u001b[?25hCollecting platformdirs>=2\n",
            "  Downloading platformdirs-2.5.4-py3-none-any.whl (14 kB)\n",
            "Collecting pathspec>=0.9.0\n",
            "  Downloading pathspec-0.10.2-py3-none-any.whl (28 kB)\n",
            "Collecting click>=8.0.0\n",
            "  Downloading click-8.1.3-py3-none-any.whl (96 kB)\n",
            "\u001b[K     |████████████████████████████████| 96 kB 7.4 MB/s \n",
            "\u001b[?25hCollecting mypy-extensions>=0.4.3\n",
            "  Downloading mypy_extensions-0.4.3-py2.py3-none-any.whl (4.5 kB)\n",
            "Requirement already satisfied: importlib-metadata in /usr/local/lib/python3.7/dist-packages (from click>=8.0.0->black==22.3.0->detectron2==0.6) (4.13.0)\n",
            "Requirement already satisfied: numpy in /usr/local/lib/python3.7/dist-packages (from fvcore<0.1.6,>=0.1.5->detectron2==0.6) (1.21.6)\n",
            "Requirement already satisfied: pyyaml>=5.1 in /usr/local/lib/python3.7/dist-packages (from fvcore<0.1.6,>=0.1.5->detectron2==0.6) (6.0)\n",
            "Requirement already satisfied: importlib-resources in /usr/local/lib/python3.7/dist-packages (from hydra-core>=1.1->detectron2==0.6) (5.10.0)\n",
            "Collecting antlr4-python3-runtime==4.9.*\n",
            "  Downloading antlr4-python3-runtime-4.9.3.tar.gz (117 kB)\n",
            "\u001b[K     |████████████████████████████████| 117 kB 57.9 MB/s \n",
            "\u001b[?25hCollecting portalocker\n",
            "  Downloading portalocker-2.6.0-py2.py3-none-any.whl (15 kB)\n",
            "Requirement already satisfied: cycler>=0.10 in /usr/local/lib/python3.7/dist-packages (from matplotlib->detectron2==0.6) (0.11.0)\n",
            "Requirement already satisfied: kiwisolver>=1.0.1 in /usr/local/lib/python3.7/dist-packages (from matplotlib->detectron2==0.6) (1.4.4)\n",
            "Requirement already satisfied: pyparsing!=2.0.4,!=2.1.2,!=2.1.6,>=2.0.1 in /usr/local/lib/python3.7/dist-packages (from matplotlib->detectron2==0.6) (3.0.9)\n",
            "Requirement already satisfied: python-dateutil>=2.1 in /usr/local/lib/python3.7/dist-packages (from matplotlib->detectron2==0.6) (2.8.2)\n",
            "Requirement already satisfied: six>=1.5 in /usr/local/lib/python3.7/dist-packages (from python-dateutil>=2.1->matplotlib->detectron2==0.6) (1.15.0)\n",
            "Requirement already satisfied: torch>=1.8.0 in /usr/local/lib/python3.7/dist-packages (from fairscale->detectron2==0.6) (1.12.1+cu113)\n",
            "Requirement already satisfied: zipp>=0.5 in /usr/local/lib/python3.7/dist-packages (from importlib-metadata->click>=8.0.0->black==22.3.0->detectron2==0.6) (3.10.0)\n",
            "Requirement already satisfied: requests<3,>=2.21.0 in /usr/local/lib/python3.7/dist-packages (from tensorboard->detectron2==0.6) (2.23.0)\n",
            "Requirement already satisfied: wheel>=0.26 in /usr/local/lib/python3.7/dist-packages (from tensorboard->detectron2==0.6) (0.38.3)\n",
            "Requirement already satisfied: protobuf<3.20,>=3.9.2 in /usr/local/lib/python3.7/dist-packages (from tensorboard->detectron2==0.6) (3.19.6)\n",
            "Requirement already satisfied: tensorboard-plugin-wit>=1.6.0 in /usr/local/lib/python3.7/dist-packages (from tensorboard->detectron2==0.6) (1.8.1)\n",
            "Requirement already satisfied: setuptools>=41.0.0 in /usr/local/lib/python3.7/dist-packages (from tensorboard->detectron2==0.6) (57.4.0)\n",
            "Requirement already satisfied: absl-py>=0.4 in /usr/local/lib/python3.7/dist-packages (from tensorboard->detectron2==0.6) (1.3.0)\n",
            "Requirement already satisfied: werkzeug>=1.0.1 in /usr/local/lib/python3.7/dist-packages (from tensorboard->detectron2==0.6) (1.0.1)\n",
            "Requirement already satisfied: grpcio>=1.24.3 in /usr/local/lib/python3.7/dist-packages (from tensorboard->detectron2==0.6) (1.50.0)\n",
            "Requirement already satisfied: google-auth<3,>=1.6.3 in /usr/local/lib/python3.7/dist-packages (from tensorboard->detectron2==0.6) (2.14.1)\n",
            "Requirement already satisfied: markdown>=2.6.8 in /usr/local/lib/python3.7/dist-packages (from tensorboard->detectron2==0.6) (3.4.1)\n",
            "Requirement already satisfied: tensorboard-data-server<0.7.0,>=0.6.0 in /usr/local/lib/python3.7/dist-packages (from tensorboard->detectron2==0.6) (0.6.1)\n",
            "Requirement already satisfied: google-auth-oauthlib<0.5,>=0.4.1 in /usr/local/lib/python3.7/dist-packages (from tensorboard->detectron2==0.6) (0.4.6)\n",
            "Requirement already satisfied: cachetools<6.0,>=2.0.0 in /usr/local/lib/python3.7/dist-packages (from google-auth<3,>=1.6.3->tensorboard->detectron2==0.6) (5.2.0)\n",
            "Requirement already satisfied: pyasn1-modules>=0.2.1 in /usr/local/lib/python3.7/dist-packages (from google-auth<3,>=1.6.3->tensorboard->detectron2==0.6) (0.2.8)\n",
            "Requirement already satisfied: rsa<5,>=3.1.4 in /usr/local/lib/python3.7/dist-packages (from google-auth<3,>=1.6.3->tensorboard->detectron2==0.6) (4.9)\n",
            "Requirement already satisfied: requests-oauthlib>=0.7.0 in /usr/local/lib/python3.7/dist-packages (from google-auth-oauthlib<0.5,>=0.4.1->tensorboard->detectron2==0.6) (1.3.1)\n",
            "Requirement already satisfied: pyasn1<0.5.0,>=0.4.6 in /usr/local/lib/python3.7/dist-packages (from pyasn1-modules>=0.2.1->google-auth<3,>=1.6.3->tensorboard->detectron2==0.6) (0.4.8)\n",
            "Requirement already satisfied: urllib3!=1.25.0,!=1.25.1,<1.26,>=1.21.1 in /usr/local/lib/python3.7/dist-packages (from requests<3,>=2.21.0->tensorboard->detectron2==0.6) (1.24.3)\n",
            "Requirement already satisfied: idna<3,>=2.5 in /usr/local/lib/python3.7/dist-packages (from requests<3,>=2.21.0->tensorboard->detectron2==0.6) (2.10)\n",
            "Requirement already satisfied: certifi>=2017.4.17 in /usr/local/lib/python3.7/dist-packages (from requests<3,>=2.21.0->tensorboard->detectron2==0.6) (2022.9.24)\n",
            "Requirement already satisfied: chardet<4,>=3.0.2 in /usr/local/lib/python3.7/dist-packages (from requests<3,>=2.21.0->tensorboard->detectron2==0.6) (3.0.4)\n",
            "Requirement already satisfied: oauthlib>=3.0.0 in /usr/local/lib/python3.7/dist-packages (from requests-oauthlib>=0.7.0->google-auth-oauthlib<0.5,>=0.4.1->tensorboard->detectron2==0.6) (3.2.2)\n",
            "Collecting huggingface-hub\n",
            "  Downloading huggingface_hub-0.11.0-py3-none-any.whl (182 kB)\n",
            "\u001b[K     |████████████████████████████████| 182 kB 56.6 MB/s \n",
            "\u001b[?25hRequirement already satisfied: torchvision in /usr/local/lib/python3.7/dist-packages (from timm->detectron2==0.6) (0.13.1+cu113)\n",
            "Requirement already satisfied: filelock in /usr/local/lib/python3.7/dist-packages (from huggingface-hub->timm->detectron2==0.6) (3.8.0)\n",
            "Building wheels for collected packages: detectron2, fvcore, antlr4-python3-runtime, fairscale\n",
            "  Building wheel for detectron2 (setup.py) ... \u001b[?25l\u001b[?25hdone\n",
            "  Created wheel for detectron2: filename=detectron2-0.6-cp37-cp37m-linux_x86_64.whl size=5191019 sha256=4c0609943ac81da4a77f2e9a38105051f0909f7745fce94de201f17772dcf16b\n",
            "  Stored in directory: /tmp/pip-ephem-wheel-cache-88zvcs69/wheels/07/dc/32/0322cb484dbefab8b9366bfedbaff5060ac7d149d69c27ca5d\n",
            "  Building wheel for fvcore (setup.py) ... \u001b[?25l\u001b[?25hdone\n",
            "  Created wheel for fvcore: filename=fvcore-0.1.5.post20220512-py3-none-any.whl size=61288 sha256=e2ffa5951f837775967186e16860a96a3ade038cafe70cd5d3f513fb7f700b71\n",
            "  Stored in directory: /root/.cache/pip/wheels/68/20/f9/a11a0dd63f4c13678b2a5ec488e48078756505c7777b75b29e\n",
            "  Building wheel for antlr4-python3-runtime (setup.py) ... \u001b[?25l\u001b[?25hdone\n",
            "  Created wheel for antlr4-python3-runtime: filename=antlr4_python3_runtime-4.9.3-py3-none-any.whl size=144576 sha256=27d1036ccc3f30fc460d2f94aecb35d11d2a66b9cd21bd8392aabcb53b4280c2\n",
            "  Stored in directory: /root/.cache/pip/wheels/8b/8d/53/2af8772d9aec614e3fc65e53d4a993ad73c61daa8bbd85a873\n",
            "  Building wheel for fairscale (PEP 517) ... \u001b[?25l\u001b[?25hdone\n",
            "  Created wheel for fairscale: filename=fairscale-0.4.6-py3-none-any.whl size=307252 sha256=ed01c3865bf1489cbae2c9f7782b12edd27b3ba70272abc0a9096482b23129db\n",
            "  Stored in directory: /root/.cache/pip/wheels/4e/4f/0b/94c29ea06dfad93260cb0377855f87b7b863312317a7f69fe7\n",
            "Successfully built detectron2 fvcore antlr4-python3-runtime fairscale\n",
            "Installing collected packages: portalocker, antlr4-python3-runtime, yacs, typed-ast, platformdirs, pathspec, omegaconf, mypy-extensions, iopath, huggingface-hub, click, timm, hydra-core, fvcore, fairscale, black, detectron2\n",
            "  Attempting uninstall: click\n",
            "    Found existing installation: click 7.1.2\n",
            "    Uninstalling click-7.1.2:\n",
            "      Successfully uninstalled click-7.1.2\n",
            "\u001b[31mERROR: pip's dependency resolver does not currently take into account all the packages that are installed. This behaviour is the source of the following dependency conflicts.\n",
            "flask 1.1.4 requires click<8.0,>=5.1, but you have click 8.1.3 which is incompatible.\u001b[0m\n",
            "Successfully installed antlr4-python3-runtime-4.9.3 black-22.3.0 click-8.1.3 detectron2-0.6 fairscale-0.4.6 fvcore-0.1.5.post20220512 huggingface-hub-0.11.0 hydra-core-1.2.0 iopath-0.1.9 mypy-extensions-0.4.3 omegaconf-2.2.3 pathspec-0.10.2 platformdirs-2.5.4 portalocker-2.6.0 timm-0.6.11 typed-ast-1.5.4 yacs-0.1.8\n"
          ]
        },
        {
          "output_type": "display_data",
          "data": {
            "application/vnd.colab-display-data+json": {
              "pip_warning": {
                "packages": [
                  "pydevd_plugins"
                ]
              }
            }
          },
          "metadata": {}
        }
      ],
      "source": [
        "!pip install 'git+https://github.com/facebookresearch/detectron2.git'"
      ]
    },
    {
      "cell_type": "code",
      "execution_count": null,
      "metadata": {
        "id": "-bZCfBbqpCB4"
      },
      "outputs": [],
      "source": [
        "import detectron2\n",
        "from detectron2.utils.logger import setup_logger\n",
        "setup_logger()\n",
        "# import some common libraries\n",
        "import numpy as np\n",
        "import pandas as pd\n",
        "import tqdm\n",
        "import os, json, cv2, random\n",
        "from google.colab.patches import cv2_imshow\n",
        "\n",
        "# import some common detectron2 utilities\n",
        "from detectron2 import model_zoo\n",
        "from detectron2.engine import DefaultPredictor\n",
        "from detectron2.config import get_cfg\n",
        "from detectron2.utils.video_visualizer import VideoVisualizer\n",
        "from detectron2.utils.visualizer import ColorMode, Visualizer\n",
        "from detectron2.data import MetadataCatalog\n",
        "import time"
      ]
    },
    {
      "cell_type": "markdown",
      "source": [
        "# Git Clone Tracking Function called SORT"
      ],
      "metadata": {
        "id": "iwiqzC8RZCsw"
      }
    },
    {
      "cell_type": "code",
      "execution_count": null,
      "metadata": {
        "id": "9-jw7BXipgbx",
        "colab": {
          "base_uri": "https://localhost:8080/"
        },
        "outputId": "fc05d4cb-cd3b-4699-f6ec-13887cacca1a"
      },
      "outputs": [
        {
          "output_type": "stream",
          "name": "stdout",
          "text": [
            "Cloning into 'sort'...\n",
            "remote: Enumerating objects: 205, done.\u001b[K\n",
            "remote: Counting objects: 100% (3/3), done.\u001b[K\n",
            "remote: Compressing objects: 100% (3/3), done.\u001b[K\n",
            "remote: Total 205 (delta 0), reused 1 (delta 0), pack-reused 202\u001b[K\n",
            "Receiving objects: 100% (205/205), 1.20 MiB | 28.04 MiB/s, done.\n",
            "Resolving deltas: 100% (72/72), done.\n"
          ]
        }
      ],
      "source": [
        "!git clone https://github.com/abewley/sort.git"
      ]
    },
    {
      "cell_type": "markdown",
      "source": [
        "# There is aPackaged version Available for people Who wants to pip install\n",
        "For those use the command Below\n",
        "\n",
        "pip install sort-track \n"
      ],
      "metadata": {
        "id": "6dKwbX4jZ3RR"
      }
    },
    {
      "cell_type": "markdown",
      "source": [
        "# Install filterpy to use Kalman filters for SORT Algo"
      ],
      "metadata": {
        "id": "9u_LDQ32aw1M"
      }
    },
    {
      "cell_type": "code",
      "execution_count": null,
      "metadata": {
        "id": "BPc9VfM9pl_T",
        "colab": {
          "base_uri": "https://localhost:8080/"
        },
        "outputId": "1fb9a353-072c-4b53-f0db-3e6ff3a42545"
      },
      "outputs": [
        {
          "output_type": "stream",
          "name": "stdout",
          "text": [
            "Looking in indexes: https://pypi.org/simple, https://us-python.pkg.dev/colab-wheels/public/simple/\n",
            "Collecting filterpy\n",
            "  Downloading filterpy-1.4.5.zip (177 kB)\n",
            "\u001b[K     |████████████████████████████████| 177 kB 25.8 MB/s \n",
            "\u001b[?25hRequirement already satisfied: numpy in /usr/local/lib/python3.7/dist-packages (from filterpy) (1.21.6)\n",
            "Requirement already satisfied: scipy in /usr/local/lib/python3.7/dist-packages (from filterpy) (1.7.3)\n",
            "Requirement already satisfied: matplotlib in /usr/local/lib/python3.7/dist-packages (from filterpy) (3.2.2)\n",
            "Requirement already satisfied: python-dateutil>=2.1 in /usr/local/lib/python3.7/dist-packages (from matplotlib->filterpy) (2.8.2)\n",
            "Requirement already satisfied: cycler>=0.10 in /usr/local/lib/python3.7/dist-packages (from matplotlib->filterpy) (0.11.0)\n",
            "Requirement already satisfied: pyparsing!=2.0.4,!=2.1.2,!=2.1.6,>=2.0.1 in /usr/local/lib/python3.7/dist-packages (from matplotlib->filterpy) (3.0.9)\n",
            "Requirement already satisfied: kiwisolver>=1.0.1 in /usr/local/lib/python3.7/dist-packages (from matplotlib->filterpy) (1.4.4)\n",
            "Requirement already satisfied: typing-extensions in /usr/local/lib/python3.7/dist-packages (from kiwisolver>=1.0.1->matplotlib->filterpy) (4.1.1)\n",
            "Requirement already satisfied: six>=1.5 in /usr/local/lib/python3.7/dist-packages (from python-dateutil>=2.1->matplotlib->filterpy) (1.15.0)\n",
            "Building wheels for collected packages: filterpy\n",
            "  Building wheel for filterpy (setup.py) ... \u001b[?25l\u001b[?25hdone\n",
            "  Created wheel for filterpy: filename=filterpy-1.4.5-py3-none-any.whl size=110474 sha256=dfe04ca2d7b9bd5495e3387403740759055fc9df29991a61c79b1a869c5b9a72\n",
            "  Stored in directory: /root/.cache/pip/wheels/ce/e0/ee/a2b3c5caab3418c1ccd8c4de573d4cbe13315d7e8b0a55fbc2\n",
            "Successfully built filterpy\n",
            "Installing collected packages: filterpy\n",
            "Successfully installed filterpy-1.4.5\n"
          ]
        }
      ],
      "source": [
        "!pip install filterpy"
      ]
    },
    {
      "cell_type": "code",
      "execution_count": null,
      "metadata": {
        "id": "jPvx58RnoogO"
      },
      "outputs": [],
      "source": [
        "from sort.sort import Sort  #Run  this cell 2 times\n"
      ]
    },
    {
      "cell_type": "markdown",
      "source": [
        "# Count Function and Function to find Center of Bounding-Box"
      ],
      "metadata": {
        "id": "1eBkwyfOYWpe"
      }
    },
    {
      "cell_type": "code",
      "execution_count": null,
      "metadata": {
        "id": "_cJxJ3MsVyT8"
      },
      "outputs": [],
      "source": [
        "def find_center(x, y, w, h):\n",
        "    x1=int(w/2)\n",
        "    y1=int(h/2)\n",
        "    cx = x+x1\n",
        "    cy=y+y1\n",
        "    return cx, cy\n",
        "def count_vehicle(box_id, img):\n",
        "    global Lcount,Rcount\n",
        "                                                               \n",
        "    x, y, w, h, id = box_id\n",
        "    index=0\n",
        "    # Find the center of the rectangle for detection\n",
        "    center = find_center(x, y, w, h)\n",
        "    ix, iy = center\n",
        "    \n",
        "    # Find the current position of the vehicle\n",
        "    if (iy > up_line_position) and (iy < middle_line_position):\n",
        "        if id not in temp_up_list:\n",
        "            temp_up_list.append(id)\n",
        "                                                                             \n",
        "    elif iy < down_line_position and iy > middle_line_position:\n",
        "        if id not in temp_down_list:\n",
        "            temp_down_list.append(id)\n",
        "                                                         \n",
        "    elif iy < up_line_position:\n",
        "        if id in temp_down_list:\n",
        "            temp_down_list.remove(id)\n",
        "            up_list[index] = up_list[index]+1\n",
        "                                                             \n",
        "            Lcount=Lcount+1     \n",
        "    elif iy > down_line_position:\n",
        "        if id in temp_up_list:\n",
        "            temp_up_list.remove(id)\n",
        "            down_list[index] = down_list[index]\n",
        "                                                            \n",
        "            Rcount=Rcount+1     \n",
        "     "
      ]
    },
    {
      "cell_type": "markdown",
      "metadata": {
        "id": "oN416yVe5z8h"
      },
      "source": [
        "#Using Detectron2 Model with\n",
        "# OUTPUT:\n",
        "\n",
        "\n",
        "*  Csv file containing Type of vehicle,B-BOX ID,Detection Accuracy,Video Frame No,Video Time(Seconds)\n",
        "*  shows Realtime Object Tracking and Counting of vehicles in left lane of Road and right lane in Video(may lag due to performnce of system)\n",
        "\n",
        "\n",
        "\n"
      ]
    },
    {
      "cell_type": "code",
      "execution_count": null,
      "metadata": {
        "colab": {
          "base_uri": "https://localhost:8080/"
        },
        "id": "ZRXL19NkrI_X",
        "outputId": "253ea1bd-88ce-4704-d6fa-1b54ff603ee2"
      },
      "outputs": [
        {
          "output_type": "stream",
          "name": "stdout",
          "text": [
            "511.0\n"
          ]
        }
      ],
      "source": [
        "\n",
        "\n",
        "# Extract video properties\n",
        "samp='/content/sample_traffic.mp4'\n",
        "dhi='/content/drive/MyDrive/Heavy traffic seen at ISBT Kashmiri Gate, New Delhi  Date 15-05-2022.mp4'\n",
        "video = cv2.VideoCapture(samp)\n",
        "width = int(video.get(cv2.CAP_PROP_FRAME_WIDTH))\n",
        "height = int(video.get(cv2.CAP_PROP_FRAME_HEIGHT))\n",
        "frames = video.get(cv2.CAP_PROP_FRAME_COUNT)\n",
        "print(frames)\n",
        "num_frames = int(video.get(cv2.CAP_PROP_FRAME_COUNT))\n",
        "sucess, img = video.read()\n",
        "font_color = (0, 0, 255)\n",
        "font_size = 0.4\n",
        "font_thickness = 1\n",
        "temp_up_list = []\n",
        "temp_down_list = []\n",
        "up_list = [0, 0, 0, 0]\n",
        "down_list = [0, 0, 0, 0]\n",
        "Lcount=0\n",
        "Rcount=0\n",
        "#print(num_frames)\n",
        "\n",
        "# Initializframes_per_seconde video writer\n",
        "\n",
        "# Initialize predictor\n",
        "\n",
        "middle_line_position = 500   \n",
        "up_line_position = middle_line_position - 40\n",
        "down_line_position = middle_line_position + 40\n",
        "\n",
        "cfg = get_cfg()\n",
        "cfg.merge_from_file(model_zoo.get_config_file(\"COCO-InstanceSegmentation/mask_rcnn_R_50_FPN_3x.yaml\"))\n",
        "cfg.MODEL.ROI_HEADS.SCORE_THRESH_TEST = 0.5  # set threshold for this model\n",
        "#cfg.MODEL.DEVICE = 'cpu'\n",
        "# Find a model from detectron2's model zoo. You can use the https://dl.fbaipublicfiles... url as well\n",
        "cfg.MODEL.WEIGHTS = model_zoo.get_checkpoint_url(\"COCO-InstanceSegmentation/mask_rcnn_R_50_FPN_3x.yaml\")\n",
        "predictor = DefaultPredictor(cfg)\n",
        "mot_tracker = Sort(max_age=2, min_hits=1, iou_threshold=0.15)\n",
        "count=1\n",
        "# Initialize visualizer\n",
        "v = Visualizer(img[:, :, ::-1], MetadataCatalog.get(cfg.DATASETS.TRAIN[0]), scale=1.2)\n",
        "time=0\n",
        "#Empty dataset to append to\n",
        "new_dta=pd.DataFrame()\n",
        "while sucess:\n",
        "          #print('%d:%02d:%02d' % (hour, min, sec))\n",
        "         # img = cv2.resize(img,(0,0),None,0.5,0.5)\n",
        "          #ih, iw, channels = img.shape\n",
        "\n",
        "          outputs = predictor(img)\n",
        "          pt=[]\n",
        "          st=[]\n",
        "          res=[]\n",
        "          for point in outputs[\"instances\"].pred_boxes:\n",
        "            sr=[]\n",
        "            sr.append(point.tolist())\n",
        "            pt.append(sr)\n",
        "          for sc in outputs[\"instances\"].scores.tolist():\n",
        "              st.append(sc)\n",
        "          for i in range(len(outputs[\"instances\"].scores)):\n",
        "                for it in pt[i]:\n",
        "                    it.append(st[i]*100)\n",
        "                    #print(it)\n",
        "                    res.append(it)\n",
        "        \n",
        "          res = np.array(res)\n",
        "          if len(res)==0:\n",
        "              res=np.empty((0, 5))\n",
        "          track_bbs_ids = mot_tracker.update(res)\n",
        "          for box_id in track_bbs_ids:\n",
        "            count_vehicle(box_id, img)\n",
        "             \n",
        "          #Make sure the frame is colored\n",
        "          #img = cv2.cvtColor(img, cv2.COLOR_RGB2BGR)\n",
        "\n",
        "          #Draw a visualization of the predictions using the video visualizer\n",
        "          visualization = v.draw_instance_predictions(outputs[\"instances\"].to(\"cpu\"))\n",
        "\n",
        "\n",
        "          # creating CSV \n",
        "          min, sec = divmod(time, 60)\n",
        "          hour, min = divmod(min, 60)\n",
        "          #print(\"frame-\",count)\n",
        "          vftime='%d:%02d:%02d' % (hour, min, sec)\n",
        "          rem=[]\n",
        "          for data in outputs[\"instances\"].pred_classes:\n",
        "            num = data.item()\n",
        "            cl=MetadataCatalog.get(cfg.DATASETS.TRAIN[0]).thing_classes[num]\n",
        "            rem.append(cl)\n",
        "          \n",
        "          dta=pd.DataFrame(data=rem,columns={\"Vehicle Type\"})\n",
        "          dta['Box ID']=pd.Series(track_bbs_ids[:,4]) #for including absent ids as nan values Series is used\n",
        "          dta['detection_score']=st\n",
        "          dta['frame no']=count\n",
        "          dta['video_frame_time']=vftime\n",
        "          #print(dta)\n",
        "          \n",
        "          new_dta=pd.concat([new_dta,dta])\n",
        "          count=count+1\n",
        "          if count%25==0: time=time+1\n",
        "          \n",
        "          sucess,img=video.read()\n",
        "          \n",
        "\n",
        "\n",
        "new_dta.to_csv(\"finalvehicledata.csv\",index=False)\n",
        "\n",
        "# Release resources\n",
        "video.release()\n",
        "cv2.destroyAllWindows()"
      ]
    },
    {
      "cell_type": "markdown",
      "source": [
        "#Using Detectron2 Model with\n",
        "# OUTPUT:\n",
        "\n",
        "\n",
        "*  Video File is Created which shows Realtime Object Tracking and Counting of vehicles in left lane of Road and right lane. \n",
        "\n",
        "we can Download the video(No lag)\n",
        "\n",
        "\n",
        "\n",
        "\n"
      ],
      "metadata": {
        "id": "YSvyhJMqfEls"
      }
    },
    {
      "cell_type": "code",
      "source": [
        "samp='/content/sample_traffic.mp4'\n",
        "dhi='/content/drive/MyDrive/Heavy traffic seen at ISBT Kashmiri Gate, New Delhi  Date 15-05-2022.mp4'\n",
        "video = cv2.VideoCapture(samp)\n",
        "width = int(video.get(cv2.CAP_PROP_FRAME_WIDTH))\n",
        "height = int(video.get(cv2.CAP_PROP_FRAME_HEIGHT))\n",
        "\n",
        "num_frames = int(video.get(cv2.CAP_PROP_FRAME_COUNT))\n",
        "sucess, img = video.read()\n",
        "font_color = (0, 0, 255)\n",
        "font_size = 0.4\n",
        "font_thickness = 1\n",
        "temp_up_list = []\n",
        "temp_down_list = []\n",
        "up_list = [0, 0, 0, 0]\n",
        "down_list = [0, 0, 0, 0]\n",
        "Lcount=0\n",
        "Rcount=0\n",
        "print(num_frames)\n",
        "# Initializframes_per_seconde video writer\n",
        "\n",
        "video_writer = cv2.VideoWriter('0.25---5==2FINAL_count.mp4', fourcc=cv2.VideoWriter_fourcc(*\"mp4v\"), fps=25.0, frameSize=(width, height), isColor=True)\n",
        "# Initialize predictor\n",
        "\n",
        "middle_line_position = 500   \n",
        "up_line_position = middle_line_position - 40\n",
        "down_line_position = middle_line_position + 40\n",
        "\n",
        "cfg = get_cfg()\n",
        "cfg.merge_from_file(model_zoo.get_config_file(\"COCO-InstanceSegmentation/mask_rcnn_R_50_FPN_3x.yaml\"))\n",
        "cfg.MODEL.ROI_HEADS.SCORE_THRESH_TEST = 0.5  # set threshold for this model\n",
        "#cfg.MODEL.DEVICE = 'cpu'\n",
        "# Find a model from detectron2's model zoo. You can use the https://dl.fbaipublicfiles... url as well\n",
        "cfg.MODEL.WEIGHTS = model_zoo.get_checkpoint_url(\"COCO-InstanceSegmentation/mask_rcnn_R_50_FPN_3x.yaml\")\n",
        "predictor = DefaultPredictor(cfg)\n",
        "mot_tracker = Sort(max_age=5, min_hits=2, iou_threshold=0.25)\n",
        "\n",
        "# Initialize visualizer\n",
        "v = VideoVisualizer(MetadataCatalog.get(cfg.DATASETS.TRAIN[0]), ColorMode.IMAGE)\n",
        "\n",
        "def generate_frame(video):\n",
        "        \n",
        "        sucess=True\n",
        "        while sucess:\n",
        "          sucess,img=video.read()\n",
        "          if not sucess:\n",
        "             break\n",
        "\n",
        "         # img = cv2.resize(img,(0,0),None,0.5,0.5)\n",
        "          ih, iw, channels = img.shape\n",
        "          outputs = predictor(img)\n",
        "          pt=[]\n",
        "          st=[]\n",
        "          res=[]\n",
        "          for point in outputs[\"instances\"].pred_boxes:\n",
        "            sr=[]\n",
        "            sr.append(point.tolist())\n",
        "            pt.append(sr)\n",
        "          for sc in outputs[\"instances\"].scores.tolist():\n",
        "              st.append(sc)\n",
        "          for i in range(len(outputs[\"instances\"].scores)):\n",
        "                for it in pt[i]:\n",
        "                    it.append(st[i]*100)\n",
        "                    #print(it)\n",
        "                    res.append(it)\n",
        "        \n",
        "          res = np.array(res)\n",
        "          if len(res)==0:\n",
        "              res=np.empty((0, 5))\n",
        "          track_bbs_ids = mot_tracker.update(res)\n",
        "          for box_id in track_bbs_ids:\n",
        "            count_vehicle(box_id, img)\n",
        "            #print(type(int(box_id[4])))  \n",
        "          #Make sure the frame is colored\n",
        "          img = cv2.cvtColor(img, cv2.COLOR_RGB2BGR)\n",
        "\n",
        "          #Draw a visualization of the predictions using the video visualizer\n",
        "          visualization = v.draw_instance_predictions(img, outputs[\"instances\"].to(\"cpu\"))\n",
        "          #print(type(visualization))\n",
        "          #Convert Matplotlib RGB format to OpenCV BGR format\n",
        "          img = cv2.cvtColor(visualization.get_image(), cv2.COLOR_BGR2RGB)\n",
        "          \"\"\"ct=0\n",
        "          for box in track_bbs_ids:\n",
        "            b4=int(box_id[4])\n",
        "            cv2.putText(img,\"VEH\"+str(ct),(int(box[0]), int(box[1])), cv2.FONT_HERSHEY_SIMPLEX, font_size, font_color, font_thickness)\n",
        "            ct=ct+1\"\"\"\n",
        "          cv2.putText(img, \"LeftCount=\"+str(Lcount), (110, 20), cv2.FONT_HERSHEY_TRIPLEX, font_size, font_color, font_thickness)\n",
        "          cv2.putText(img, \"RightCount=\"+str(Rcount), (110, 40), cv2.FONT_HERSHEY_TRIPLEX, font_size, font_color, font_thickness)\n",
        "          cv2.line(img, (0, middle_line_position), (iw, middle_line_position), (255, 0, 255), 1)\n",
        "          cv2.line(img, (0, up_line_position), (iw, up_line_position), (0, 0, 255), 1)\n",
        "          cv2.line(img, (0, down_line_position), (iw, down_line_position), (0, 0, 255), 1)\n",
        "          #cv2_imshow(img)\n",
        "          yield img\n",
        "\n",
        "for  img in generate_frame(video):\n",
        "  video_writer.write(img)\n",
        "\n",
        "# Release resources\n",
        "video.release()\n",
        "video_writer.release()\n",
        "cv2.destroyAllWindows()"
      ],
      "metadata": {
        "id": "SWe3Ihg-gaf1"
      },
      "execution_count": null,
      "outputs": []
    }
  ],
  "metadata": {
    "accelerator": "GPU",
    "colab": {
      "provenance": []
    },
    "gpuClass": "standard",
    "kernelspec": {
      "display_name": "Python 3",
      "name": "python3"
    },
    "language_info": {
      "name": "python"
    }
  },
  "nbformat": 4,
  "nbformat_minor": 0
}